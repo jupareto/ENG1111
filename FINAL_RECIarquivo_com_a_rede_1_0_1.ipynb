{
  "cells": [
    {
      "cell_type": "markdown",
      "metadata": {
        "id": "view-in-github",
        "colab_type": "text"
      },
      "source": [
        "<a href=\"https://colab.research.google.com/github/jupareto/ENG1111/blob/main/FINAL_RECIarquivo_com_a_rede_1_0_1.ipynb\" target=\"_parent\"><img src=\"https://colab.research.google.com/assets/colab-badge.svg\" alt=\"Open In Colab\"/></a>"
      ]
    },
    {
      "cell_type": "markdown",
      "source": [
        "### **Título:** arquivo_com_a_rede\n",
        "\n",
        "**Versão:** 1.0.1\n",
        "\n",
        "**Data:** 5/12/2022\n",
        "\n",
        "**Autores:**\n",
        "- Carolina Fischberg Blank (2211321)\n",
        "- Guilherme Fagundes Maximo (2211318)\n",
        "- Julia Malhães da Cunha Pareto (2211308)\n",
        "- Pedro de Almeida Barizon (2211350)\n",
        "\n",
        "**Professor Orientador:** João Ricardo Cortes Nunes\n",
        "\n",
        "**Monitores:**\n",
        "- Gabriella Serra Gonçalves\n",
        "- Vinícius Machado da Rocha Viana"
      ],
      "metadata": {
        "id": "M35BIKvpg9in"
      }
    },
    {
      "cell_type": "markdown",
      "source": [
        "# **Bibliotecas Necessárias**"
      ],
      "metadata": {
        "id": "N-MNXZpbgk4N"
      }
    },
    {
      "cell_type": "code",
      "execution_count": null,
      "metadata": {
        "id": "jRhKMGjPNPcx"
      },
      "outputs": [],
      "source": [
        "# Bibliotecas operacionais:\n",
        "\n",
        "import os\n",
        "import numpy as np\n",
        "import pandas as pd\n",
        "import matplotlib.pyplot as plt\n",
        "import matplotlib.image as mpimg\n",
        "from google.colab import drive\n",
        "\n",
        "# Bibliotecas voltadas à rede neural propriamente dita:\n",
        "\n",
        "import tensorflow as tf\n",
        "from tensorflow import keras # A Keras atuará como frontend do TensorFlow, que atuará como backend\n",
        "from tensorflow.keras.preprocessing.image import ImageDataGenerator"
      ]
    },
    {
      "cell_type": "markdown",
      "source": [
        "# **Verificação do Dataset**"
      ],
      "metadata": {
        "id": "oL8qbFCgnHkx"
      }
    },
    {
      "cell_type": "code",
      "execution_count": null,
      "metadata": {
        "id": "t7-jl-y-Nkv7"
      },
      "outputs": [],
      "source": [
        "# Definição do path para o dataset:\n",
        "\n",
        "drive.mount('/drive')\n",
        "train_dir = os.path.join('/drive/MyDrive/archive/Garbage classification/Garbage classification')\n",
        "\n",
        "# Definição da lista de categorias para uma classificação de imagens de forma humanamente compreensível:\n",
        "\n",
        "labels = ['cardboard', 'glass', 'metal', 'paper', 'plastic', 'trash']"
      ]
    },
    {
      "cell_type": "code",
      "execution_count": null,
      "metadata": {
        "id": "uEXyUv_1Nqem"
      },
      "outputs": [],
      "source": [
        "# Checagem da quantidade de dados disponíveis para o treino da rede neural:\n",
        "\n",
        "for label in labels:\n",
        "    directory = os.path.join(train_dir, label)\n",
        "    print(\"Images of label \\\"\" + label + \"\\\":\\t\", len(os.listdir(directory)))"
      ]
    },
    {
      "cell_type": "code",
      "execution_count": null,
      "metadata": {
        "id": "5zdb73wwT7wx"
      },
      "outputs": [],
      "source": [
        "# Plotagem de imagens de diferentes categorias para entendermos o dataset:\n",
        "\n",
        "plt.figure(figsize=(30,14))\n",
        "\n",
        "for i in range(4):\n",
        "    directory = os.path.join(train_dir, labels[i])\n",
        "    for j in range(8):\n",
        "        path = os.path.join(directory, os.listdir(directory)[j])\n",
        "        img = mpimg.imread(path)\n",
        "        \n",
        "        plt.subplot(4, 8, i*8 + j + 1)\n",
        "        plt.imshow(img)\n",
        "        \n",
        "        if j == 0:\n",
        "            plt.ylabel(labels[i], fontsize=20)\n",
        "        \n",
        "plt.setp(plt.gcf().get_axes(), xticks=[], yticks=[]);\n",
        "plt.tight_layout()\n",
        "plt.show()"
      ]
    },
    {
      "cell_type": "code",
      "execution_count": null,
      "metadata": {
        "id": "GwTPldvIUJ7N"
      },
      "outputs": [],
      "source": [
        "# Checagem do tamanho de uma imagem individualmente:\n",
        "\n",
        "directory = os.path.join(train_dir, 'cardboard')\n",
        "path = os.path.join(directory, os.listdir(directory)[0])\n",
        "image = mpimg.imread(path)\n",
        "image.shape"
      ]
    },
    {
      "cell_type": "markdown",
      "source": [
        "# **Definição do Modelo**"
      ],
      "metadata": {
        "id": "oRr_sgdzlgfj"
      }
    },
    {
      "cell_type": "code",
      "execution_count": null,
      "metadata": {
        "colab": {
          "base_uri": "https://localhost:8080/"
        },
        "id": "5Wkw373cUOAP",
        "outputId": "1b1e9717-8596-4428-c377-cd644dc7ab79"
      },
      "outputs": [
        {
          "output_type": "stream",
          "name": "stdout",
          "text": [
            "Model: \"sequential\"\n",
            "_________________________________________________________________\n",
            " Layer (type)                Output Shape              Param #   \n",
            "=================================================================\n",
            " conv2d (Conv2D)             (None, 382, 510, 32)      896       \n",
            "                                                                 \n",
            " batch_normalization (BatchN  (None, 382, 510, 32)     128       \n",
            " ormalization)                                                   \n",
            "                                                                 \n",
            " conv2d_1 (Conv2D)           (None, 380, 508, 32)      9248      \n",
            "                                                                 \n",
            " batch_normalization_1 (Batc  (None, 380, 508, 32)     128       \n",
            " hNormalization)                                                 \n",
            "                                                                 \n",
            " max_pooling2d (MaxPooling2D  (None, 190, 254, 32)     0         \n",
            " )                                                               \n",
            "                                                                 \n",
            " dropout (Dropout)           (None, 190, 254, 32)      0         \n",
            "                                                                 \n",
            " conv2d_2 (Conv2D)           (None, 188, 252, 64)      18496     \n",
            "                                                                 \n",
            " batch_normalization_2 (Batc  (None, 188, 252, 64)     256       \n",
            " hNormalization)                                                 \n",
            "                                                                 \n",
            " conv2d_3 (Conv2D)           (None, 186, 250, 64)      36928     \n",
            "                                                                 \n",
            " batch_normalization_3 (Batc  (None, 186, 250, 64)     256       \n",
            " hNormalization)                                                 \n",
            "                                                                 \n",
            " max_pooling2d_1 (MaxPooling  (None, 93, 125, 64)      0         \n",
            " 2D)                                                             \n",
            "                                                                 \n",
            " dropout_1 (Dropout)         (None, 93, 125, 64)       0         \n",
            "                                                                 \n",
            " conv2d_4 (Conv2D)           (None, 91, 123, 128)      73856     \n",
            "                                                                 \n",
            " batch_normalization_4 (Batc  (None, 91, 123, 128)     512       \n",
            " hNormalization)                                                 \n",
            "                                                                 \n",
            " conv2d_5 (Conv2D)           (None, 89, 121, 128)      147584    \n",
            "                                                                 \n",
            " batch_normalization_5 (Batc  (None, 89, 121, 128)     512       \n",
            " hNormalization)                                                 \n",
            "                                                                 \n",
            " max_pooling2d_2 (MaxPooling  (None, 44, 60, 128)      0         \n",
            " 2D)                                                             \n",
            "                                                                 \n",
            " dropout_2 (Dropout)         (None, 44, 60, 128)       0         \n",
            "                                                                 \n",
            " conv2d_6 (Conv2D)           (None, 42, 58, 256)       295168    \n",
            "                                                                 \n",
            " batch_normalization_6 (Batc  (None, 42, 58, 256)      1024      \n",
            " hNormalization)                                                 \n",
            "                                                                 \n",
            " conv2d_7 (Conv2D)           (None, 40, 56, 256)       590080    \n",
            "                                                                 \n",
            " batch_normalization_7 (Batc  (None, 40, 56, 256)      1024      \n",
            " hNormalization)                                                 \n",
            "                                                                 \n",
            " max_pooling2d_3 (MaxPooling  (None, 20, 28, 256)      0         \n",
            " 2D)                                                             \n",
            "                                                                 \n",
            " dropout_3 (Dropout)         (None, 20, 28, 256)       0         \n",
            "                                                                 \n",
            " flatten (Flatten)           (None, 143360)            0         \n",
            "                                                                 \n",
            " dense (Dense)               (None, 512)               73400832  \n",
            "                                                                 \n",
            " batch_normalization_8 (Batc  (None, 512)              2048      \n",
            " hNormalization)                                                 \n",
            "                                                                 \n",
            " dropout_4 (Dropout)         (None, 512)               0         \n",
            "                                                                 \n",
            " dense_1 (Dense)             (None, 6)                 3078      \n",
            "                                                                 \n",
            "=================================================================\n",
            "Total params: 74,582,054\n",
            "Trainable params: 74,579,110\n",
            "Non-trainable params: 2,944\n",
            "_________________________________________________________________\n"
          ]
        }
      ],
      "source": [
        "model = tf.keras.Sequential([ # Escolheu-se um modelo de rede sequencial (a informação flui de camada a camada sem retornar)\n",
        "  tf.keras.layers.Conv2D(32, (3, 3), activation='relu', input_shape=(384, 512, 3)), # Camada de aplicação do operador convolucional. Cada um dos 32 neurônios será responsável por uma janela 3x3 vinda da imagem original\n",
        "  tf.keras.layers.BatchNormalization(), # Normalização dos valores, para que sigam uma distribuição Gaussiana. Trata-se de uma boa prática que permite um melhor funcionamento da rede, facilitando as contas e possibilitando que a rede convirja mais rapidamente\n",
        "  tf.keras.layers.Conv2D(32, (3, 3), activation='relu'), # A função de ativação ReLU, segundo a literatura especializada, apresenta excelentes resultados (converge rapidamente e é fácil de ser calculada), inclusive em redes neurais convolucionais — daí sua escolha\n",
        "  tf.keras.layers.BatchNormalization(),\n",
        "  tf.keras.layers.MaxPooling2D(2, 2), # Redução da imagem original a partir do escaneamento com uma janela 2x2 que percorre a imagem (a cada posição, dos quatro pixels, apenas o de maior valor comporá a nova imagem)\n",
        "  tf.keras.layers.Dropout(0.2),\n",
        "\n",
        "  tf.keras.layers.Conv2D(64, (3, 3), activation='relu'), # A convulação será aplicada à imagem reduzida, permitindo que padrões mais amplos sejam averiguados de uma só vez\n",
        "  tf.keras.layers.BatchNormalization(),\n",
        "  tf.keras.layers.Conv2D(64, (3, 3), activation='relu'),\n",
        "  tf.keras.layers.BatchNormalization(),\n",
        "  tf.keras.layers.MaxPooling2D(2, 2), # Nova redução da imagem já reduzida\n",
        "  tf.keras.layers.Dropout(0.2),\n",
        "  \n",
        "  # O dinamismo convolução-redução repete-se nas linhas abaixo...\n",
        "\n",
        "  tf.keras.layers.Conv2D(128, (3, 3), activation='relu'),\n",
        "  tf.keras.layers.BatchNormalization(),\n",
        "  tf.keras.layers.Conv2D(128, (3, 3), activation='relu'),\n",
        "  tf.keras.layers.BatchNormalization(),\n",
        "  tf.keras.layers.MaxPooling2D(2, 2), # Com mais reduções, os padrões percebidos passam a relacionar mais áreas diferentes da figura original, tornando-se mais complexos — daí o aumento no número de neurônios 32 -> 64 -> 128 ->...\n",
        "  tf.keras.layers.Dropout(0.2),\n",
        "\n",
        "  tf.keras.layers.Conv2D(256, (3, 3), activation='relu'),\n",
        "  tf.keras.layers.BatchNormalization(),\n",
        "  tf.keras.layers.Conv2D(256, (3, 3), activation='relu'),\n",
        "  tf.keras.layers.BatchNormalization(),\n",
        "  tf.keras.layers.MaxPooling2D(2, 2),\n",
        "  tf.keras.layers.Dropout(0.2),\n",
        "\n",
        "  # ... até a camada de saída\n",
        "\n",
        "  tf.keras.layers.Flatten(), # As informações anteriores, que se encontravam na forma de tensor (muitas dimensões), são transformadas em um vetor (uma dimensão). Dito de outra forma, o tensor é \"achatado\" (flattened)\n",
        "  tf.keras.layers.Dense(512, activation='relu'), # Um último processamento até a camada final\n",
        "  tf.keras.layers.BatchNormalization(),\n",
        "  tf.keras.layers.Dropout(0.4),\n",
        "  tf.keras.layers.Dense(6, activation='softmax') # A função de ativação softmax é recomendada para classificações não binárias, porque normaliza os valores de saída, de modo que seu somatório seja 1 (o que permite a interpretação dos resultados como probabilidades)\n",
        "])\n",
        "\n",
        "model.summary() # O sumário do modelo mostra seus detalhes camada a camada e, por fim, fornece uma visão panorâmica"
      ]
    },
    {
      "cell_type": "markdown",
      "source": [
        "# **Compilação do Modelo**\n",
        "\n",
        "\n",
        "A função de perda (parâmetro \"loss\") escolhida foi a *sparse_categorical_crossentropy*, uma vez que este modelo trata de um problema de classificação cujas categorias excedem duas possibilidades. Dessa forma, a *binary_crossentropy*, indicada em situações binárias (\"A ou B\"), seria inadequada.\n",
        "\n",
        "Além disso, o otimizador escolhido foi o Adam, que, segundo a literatura especializada, apesar de possuir uma generalização inferior à do SGD (método do gradiente estocástico descendente), tende a convergir mais rapidamente. Cumpre ressaltar, aliás, que o parâmetro \"lr\" corresponde à taxa de aprendizagem (*learning rate*), isto é, ao \"tamanho dos passos\" com que o Adam percorrerá a hipersuperfície da função de perda em busca de pontos de mínimo. Se for muito elevada, pode ser que o Adam acabe ultrapassando os pontos desejados por estar muito veloz. Se muito baixa, demorará uma eternidade computacional. É importante, pois, o uso de um valor equilibrado.\n",
        "\n",
        "Por fim, para se verificar o desempenho do modelo, monitora-se sua acurácia, isto é, a razão entre as previsões corretas e as previsões totais feitas com base nos valores do conjunto de treino."
      ],
      "metadata": {
        "id": "ACmEOeH4rnpC"
      }
    },
    {
      "cell_type": "code",
      "execution_count": null,
      "metadata": {
        "colab": {
          "base_uri": "https://localhost:8080/",
          "height": 165
        },
        "id": "xKxCjUGlUcxf",
        "outputId": "70a65b82-3064-464d-92e8-9465ed6b1625"
      },
      "outputs": [
        {
          "output_type": "error",
          "ename": "NameError",
          "evalue": "ignored",
          "traceback": [
            "\u001b[0;31m---------------------------------------------------------------------------\u001b[0m",
            "\u001b[0;31mNameError\u001b[0m                                 Traceback (most recent call last)",
            "\u001b[0;32m<ipython-input-5-744eaf2c3336>\u001b[0m in \u001b[0;36m<module>\u001b[0;34m\u001b[0m\n\u001b[0;32m----> 1\u001b[0;31m \u001b[0mmodel\u001b[0m\u001b[0;34m.\u001b[0m\u001b[0mcompile\u001b[0m\u001b[0;34m(\u001b[0m\u001b[0mloss\u001b[0m\u001b[0;34m=\u001b[0m\u001b[0;34m'sparse_categorical_crossentropy'\u001b[0m\u001b[0;34m,\u001b[0m \u001b[0moptimizer\u001b[0m\u001b[0;34m=\u001b[0m\u001b[0mkeras\u001b[0m\u001b[0;34m.\u001b[0m\u001b[0moptimizers\u001b[0m\u001b[0;34m.\u001b[0m\u001b[0mAdam\u001b[0m\u001b[0;34m(\u001b[0m\u001b[0mlr\u001b[0m \u001b[0;34m=\u001b[0m \u001b[0;36m0.0001\u001b[0m\u001b[0;34m)\u001b[0m\u001b[0;34m,\u001b[0m \u001b[0mmetrics\u001b[0m\u001b[0;34m=\u001b[0m\u001b[0;34m[\u001b[0m\u001b[0;34m'accuracy'\u001b[0m\u001b[0;34m]\u001b[0m\u001b[0;34m)\u001b[0m\u001b[0;34m\u001b[0m\u001b[0;34m\u001b[0m\u001b[0m\n\u001b[0m",
            "\u001b[0;31mNameError\u001b[0m: name 'model' is not defined"
          ]
        }
      ],
      "source": [
        "model.compile(loss='sparse_categorical_crossentropy', optimizer=keras.optimizers.Adam(lr = 0.0001), metrics=['accuracy'])"
      ]
    },
    {
      "cell_type": "markdown",
      "source": [
        "# **Ampliação do Dataset**"
      ],
      "metadata": {
        "id": "6LBrGZdD-MgR"
      }
    },
    {
      "cell_type": "code",
      "execution_count": null,
      "metadata": {
        "id": "l60eGZG-Un_1"
      },
      "outputs": [],
      "source": [
        "# Ampliação do dataset por meio de ligeiras modificações nas imagens originais (rotações e inversões, por exemplo), o que aumenta os insights obtíveis pela rede:\n",
        "\n",
        "train_datagen = ImageDataGenerator(horizontal_flip=True,vertical_flip=True,\n",
        "                                   rotation_range=15,zoom_range=0.1,\n",
        "                                   width_shift_range=0.15,height_shift_range=0.15,\n",
        "                                   shear_range=0.1,\n",
        "                                   fill_mode=\"nearest\",\n",
        "                                   rescale=1./255., \n",
        "                                   validation_split=0.2)\n",
        "\n",
        "train_generator = train_datagen.flow_from_directory(train_dir, target_size=(384, 512), batch_size=32, class_mode='binary', subset='training')\n",
        "validation_generator = train_datagen.flow_from_directory(train_dir, target_size=(384, 512), batch_size=32, class_mode='binary', subset='validation')"
      ]
    },
    {
      "cell_type": "markdown",
      "source": [
        "# **Preparação para Salvamento dos Pesos Otimizados**"
      ],
      "metadata": {
        "id": "bYpQtKGOEmex"
      }
    },
    {
      "cell_type": "code",
      "execution_count": null,
      "metadata": {
        "id": "6VrrzaArUrPb"
      },
      "outputs": [],
      "source": [
        "# Criação de uma função de retorno para que os pesos possam ser salvos:\n",
        "\n",
        "checkpoint_path = \"training_1/cp.ckpt\"\n",
        "checkpoint_dir = os.path.dirname(checkpoint_path)\n",
        "cp_callback = tf.keras.callbacks.ModelCheckpoint(filepath=checkpoint_path,\n",
        "                                                 save_weights_only=True,\n",
        "                                                 verbose=1)"
      ]
    },
    {
      "cell_type": "markdown",
      "source": [
        "# **Treinamento do Modelo**"
      ],
      "metadata": {
        "id": "vrG_lCu4q4aV"
      }
    },
    {
      "cell_type": "code",
      "execution_count": null,
      "metadata": {
        "id": "7H5NpdCiUtY6"
      },
      "outputs": [],
      "source": [
        "history = model.fit(train_generator, epochs=1, verbose=1, validation_data=validation_generator, callbacks=[cp_callback])"
      ]
    },
    {
      "cell_type": "code",
      "source": [
        "os.listdir(checkpoint_dir)"
      ],
      "metadata": {
        "id": "oL9PR5IMFRtR"
      },
      "execution_count": null,
      "outputs": []
    },
    {
      "cell_type": "markdown",
      "source": [
        "# **Carregamento dos Pesos Salvos e Avaliação do Modelo**"
      ],
      "metadata": {
        "id": "u8Pl6vORrjse"
      }
    },
    {
      "cell_type": "code",
      "source": [
        "# Carregamento dos pesos:\n",
        "model.load_weights(checkpoint_path)\n",
        "\n",
        "# Avaliação do modelo:\n",
        "loss, acc = model.evaluate(validation_generator, verbose=2)\n",
        "print(\"Restored model, accuracy: {:5.2f}%\".format(100 * acc))"
      ],
      "metadata": {
        "id": "bvEETIUUpiDd"
      },
      "execution_count": null,
      "outputs": []
    },
    {
      "cell_type": "markdown",
      "source": [
        "# **Salvamento do Modelo e dos Pesos Otimizados**"
      ],
      "metadata": {
        "id": "onXeX1Eps0nP"
      }
    },
    {
      "cell_type": "code",
      "source": [
        "# Salvamento dos pesos já otimizados:\n",
        "model.save_weights('./checkpoints/my_checkpoint')\n",
        "\n",
        "# Salvamento de todo o modelo como um \"SavedModel\":\n",
        "!mkdir -p saved_model\n",
        "model.save('saved_model/my_model')"
      ],
      "metadata": {
        "id": "g6l2NRcRdS4k"
      },
      "execution_count": null,
      "outputs": []
    },
    {
      "cell_type": "markdown",
      "source": [
        "# **Recuperação do Modelo Salvo**"
      ],
      "metadata": {
        "id": "JiduBpKYtZ2Y"
      }
    },
    {
      "cell_type": "code",
      "source": [
        "# Recuperação do modelo salvo:\n",
        "new_model = tf.keras.models.load_model('/drive/MyDrive/saved_model/my_model')\n",
        "\n",
        "# Checagem da arquitetura do modelo recuperado:\n",
        "new_model.summary()"
      ],
      "metadata": {
        "id": "vGMr4rAMdd9L"
      },
      "execution_count": null,
      "outputs": []
    },
    {
      "cell_type": "markdown",
      "source": [
        "# **Previsões do Modelo a partir de Imagens Individuais do Datasest**"
      ],
      "metadata": {
        "id": "AnHeyQNHsjvq"
      }
    },
    {
      "cell_type": "code",
      "source": [
        "cat = int(input('Enter any category by index: ')) # Escolha de uma categoria a ser testada\n",
        "ind = int(input('Enter any index to test: ')) # Escolha do índice da imagem a ser testada\n",
        "\n",
        "directory = os.path.join(train_dir, labels[cat % 6])\n",
        "try:\n",
        "    path = os.path.join(directory, os.listdir(directory)[ind])\n",
        "    img = mpimg.imread(path)\n",
        "\n",
        "    # Pré-processamento da imagem a ser classificada:\n",
        "\n",
        "    x = keras.preprocessing.image.img_to_array(img) # Primeiro, é transformada em um tensor (array)\n",
        "    x = np.expand_dims(x, axis=0) # Por fim, adiciona-se mais um eixo ao tensor, a fim de que seu formato fique compatível com a Keras\n",
        "    \n",
        "    images = np.vstack([x])\n",
        "    classes = new_model.predict(images) # O modelo realiza sua previsão ao retornar um vetor normalizado cujas componentes são as probabilidades (seu somatório equivale a 1) respectivas a cada classe\n",
        "    pred = labels[np.argmax(classes)] # Com base no índice da maior probabilidade no vetor que contém as previsões, a classe respectiva é escolhida na lista de categorias\n",
        "    \n",
        "    plt.imshow(img)\n",
        "    plt.xticks([])\n",
        "    plt.yticks([])\n",
        "    plt.title('Actual: {}      Pred: {}'.format(labels[cat], pred)) # Comparação entre o real e o predito\n",
        "    \n",
        "except:\n",
        "    print('Invalid Value') # Uma mensagem de erro será exibida caso algum dos valores de entrada seja inválido"
      ],
      "metadata": {
        "id": "DWpTYp39UmKf"
      },
      "execution_count": null,
      "outputs": []
    },
    {
      "cell_type": "markdown",
      "source": [
        "# **Referências Bibliográficas**\n",
        "\n",
        "**Nove primeiros vídeos da playlist de redes neurais do canal Universo Discreto, de autoria do cientista da computação Lucas Grassano Lattari:**\n",
        "- https://youtu.be/WPxV5WXP3OM\n",
        "- https://youtu.be/NFZwmiKTFfI\n",
        "- https://youtu.be/tYXGzQs31Og\n",
        "- https://youtu.be/IqLyqr_eI0U\n",
        "- https://youtu.be/_SeXVKD0NNk\n",
        "- https://youtu.be/e5nC31i7nVY\n",
        "- https://youtu.be/rQ-BePyJK0E\n",
        "- https://youtu.be/gbrHEsbTdF0\n",
        "- https://youtu.be/0lvHURoyhtc\n",
        "\n",
        "**Código do usuário do Kaggle SANKET MATHUR, cujo trabalho serviu-nos de base:**\n",
        "- https://www.kaggle.com/code/sanketmathur7/garbage-classification-cnn"
      ],
      "metadata": {
        "id": "6qoHCzPZqjw_"
      }
    }
  ],
  "metadata": {
    "colab": {
      "provenance": [],
      "collapsed_sections": [
        "M35BIKvpg9in",
        "6qoHCzPZqjw_"
      ],
      "include_colab_link": true
    },
    "kernelspec": {
      "display_name": "Python 3",
      "name": "python3"
    },
    "language_info": {
      "name": "python"
    }
  },
  "nbformat": 4,
  "nbformat_minor": 0
}